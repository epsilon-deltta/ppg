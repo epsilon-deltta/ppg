{
 "cells": [
  {
   "cell_type": "markdown",
   "id": "97e51275-bdd4-48a3-b683-d83c93287571",
   "metadata": {},
   "source": [
    "### utils test "
   ]
  },
  {
   "cell_type": "code",
   "execution_count": null,
   "id": "ae236a7f-04e9-4064-9af0-d46604aea4d4",
   "metadata": {},
   "outputs": [],
   "source": [
    "from ppg_pre import utils \n",
    "import os"
   ]
  },
  {
   "cell_type": "code",
   "execution_count": 6,
   "id": "7099b036-cc67-4958-87bf-ef64c67d831b",
   "metadata": {},
   "outputs": [],
   "source": [
    "assert utils.get_ppg_sample(0).shape == (90000,1)\n",
    "assert utils.get_ppg_sample(1).shape == (90000,1)\n",
    "assert utils.get_ppg_sample(2).shape == (90000,1)"
   ]
  },
  {
   "cell_type": "markdown",
   "id": "f76e57dc-be24-4404-add2-58b7fb7619c1",
   "metadata": {},
   "source": [
    "### ppg end2end preprocess test"
   ]
  },
  {
   "cell_type": "code",
   "execution_count": 12,
   "id": "2326e6fa-a2aa-4b11-bd6e-995c5c794598",
   "metadata": {},
   "outputs": [],
   "source": [
    "from ppg_pre import utils \n",
    "\n",
    "x = utils.get_ppg_sample(2)"
   ]
  },
  {
   "cell_type": "code",
   "execution_count": 13,
   "id": "ae597d12-5ca5-401e-9dad-54bc42b49a78",
   "metadata": {},
   "outputs": [],
   "source": [
    "from ppg_pre import preprocess\n",
    "xspec = preprocess.ppg2specgram(x)"
   ]
  },
  {
   "cell_type": "code",
   "execution_count": 6,
   "id": "5678d0f0-be92-45aa-be30-c2bb33d3f2f3",
   "metadata": {},
   "outputs": [
    {
     "data": {
      "text/plain": [
       "array([[4.76250807e-03, 7.87038454e-03, 1.81013729e-03, ...,\n",
       "        2.35080076e-02, 6.76205263e-03, 1.65294576e-03],\n",
       "       [8.13826826e-02, 2.62714453e-01, 8.72222017e-02, ...,\n",
       "        4.92745938e-01, 6.10391384e-01, 8.71556695e-01],\n",
       "       [3.25878993e-01, 7.45494232e-02, 5.15323289e-02, ...,\n",
       "        2.08036111e-02, 1.38055776e-01, 1.18407737e-01],\n",
       "       ...,\n",
       "       [7.69800213e-15, 1.27630115e-14, 3.43167049e-15, ...,\n",
       "        1.70905418e-14, 1.87879832e-14, 2.19488611e-14],\n",
       "       [3.96717351e-14, 4.32142910e-15, 2.01882594e-15, ...,\n",
       "        3.45432728e-14, 9.54714359e-15, 1.46603793e-14],\n",
       "       [2.44915643e-14, 2.85039144e-18, 5.19260680e-16, ...,\n",
       "        1.30739794e-14, 3.71492821e-16, 6.47318981e-17]])"
      ]
     },
     "execution_count": 6,
     "metadata": {},
     "output_type": "execute_result"
    }
   ],
   "source": [
    "x"
   ]
  },
  {
   "cell_type": "markdown",
   "id": "005b4b82-3318-4344-afb7-24f630332f44",
   "metadata": {},
   "source": [
    "### package path shortcut test "
   ]
  },
  {
   "cell_type": "code",
   "execution_count": 1,
   "id": "2bb47160-a153-4fc3-9e55-727fa2de7d2d",
   "metadata": {},
   "outputs": [],
   "source": [
    "from ppg_pre import get_ppg_sample\n",
    "\n",
    "from ppg_pre import ppg2specgram"
   ]
  },
  {
   "cell_type": "code",
   "execution_count": 3,
   "id": "3ebe6ea0-705f-40e6-ae8a-967dbe026f05",
   "metadata": {},
   "outputs": [],
   "source": [
    "x = get_ppg_sample()\n",
    "\n",
    "x = ppg2specgram(x)"
   ]
  },
  {
   "cell_type": "markdown",
   "id": "30525209-b042-4ff5-b565-157859bcc55c",
   "metadata": {},
   "source": [
    "### vis. "
   ]
  },
  {
   "cell_type": "code",
   "execution_count": 7,
   "id": "9b918697-fe63-490a-9cd3-b355dcd31094",
   "metadata": {},
   "outputs": [],
   "source": [
    "from matplotlib import pyplot as plt"
   ]
  },
  {
   "cell_type": "code",
   "execution_count": 14,
   "id": "2da5d5db-fcc3-40cf-96eb-9d9b68ec2a7e",
   "metadata": {},
   "outputs": [
    {
     "data": {
      "text/plain": [
       "[<matplotlib.lines.Line2D at 0x7faf6947d358>]"
      ]
     },
     "execution_count": 14,
     "metadata": {},
     "output_type": "execute_result"
    },
    {
     "data": {
      "image/png": "[encoded data removed]",
      "text/plain": [
       "<Figure size 432x288 with 1 Axes>"
      ]
     },
     "metadata": {
      "needs_background": "light"
     },
     "output_type": "display_data"
    }
   ],
   "source": [
    "plt.plot(x)"
   ]
  }
 ],
 "metadata": {
  "kernelspec": {
   "display_name": "torch0",
   "language": "python",
   "name": "torch0"
  },
  "language_info": {
   "codemirror_mode": {
    "name": "ipython",
    "version": 3
   },
   "file_extension": ".py",
   "mimetype": "text/x-python",
   "name": "python",
   "nbconvert_exporter": "python",
   "pygments_lexer": "ipython3",
   "version": "3.6.13"
  }
 },
 "nbformat": 4,
 "nbformat_minor": 5
}
